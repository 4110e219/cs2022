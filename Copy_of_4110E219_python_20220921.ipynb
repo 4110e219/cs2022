{
  "nbformat": 4,
  "nbformat_minor": 0,
  "metadata": {
    "colab": {
      "provenance": []
    },
    "kernelspec": {
      "name": "python3",
      "display_name": "Python 3"
    },
    "language_info": {
      "name": "python"
    }
  },
  "cells": [
    {
      "cell_type": "code",
      "execution_count": null,
      "metadata": {
        "colab": {
          "base_uri": "https://localhost:8080/"
        },
        "id": "iFVZyfW4zzdf",
        "outputId": "dd15964a-051a-40fc-ee80-9f289d2d448d"
      },
      "outputs": [
        {
          "output_type": "stream",
          "name": "stdout",
          "text": [
            "pandas version: 1.3.5\n",
            "matplotlib version: 3.2.2\n",
            "numpy version: 1.21.6\n",
            "scikit-learn version: 1.0.2\n",
            "tensorflow version: 2.8.2\n",
            "PyTorch version: 1.12.1+cu113\n"
          ]
        }
      ],
      "source": [
        "import pandas as pd\n",
        "print(\"pandas version: %s\" % pd.__version__)\n",
        " \n",
        "import matplotlib\n",
        "print(\"matplotlib version: %s\" % matplotlib.__version__)\n",
        " \n",
        "import numpy as np\n",
        "print(\"numpy version: %s\" % np.__version__)\n",
        " \n",
        "import sklearn\n",
        "print(\"scikit-learn version: %s\" % sklearn.__version__)\n",
        " \n",
        "import tensorflow as tf\n",
        "print(\"tensorflow version: %s\" % tf.__version__)\n",
        " \n",
        "import torch\n",
        "print(\"PyTorch version: %s\" %torch.__version__)"
      ]
    }
  ]
}