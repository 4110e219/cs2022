{
  "nbformat": 4,
  "nbformat_minor": 0,
  "metadata": {
    "colab": {
      "provenance": [],
      "collapsed_sections": []
    },
    "kernelspec": {
      "name": "python3",
      "display_name": "Python 3"
    },
    "language_info": {
      "name": "python"
    }
  },
  "cells": [
    {
      "cell_type": "markdown",
      "source": [
        "\n",
        "**EXCERCISE 1** \n",
        "\n",
        "\n"
      ],
      "metadata": {
        "id": "d1V5L96JvzF_"
      }
    },
    {
      "cell_type": "markdown",
      "source": [
        "1.Write a recursive function for f(n) "
      ],
      "metadata": {
        "id": "AfW-GKC9xYX5"
      }
    },
    {
      "cell_type": "code",
      "execution_count": null,
      "metadata": {
        "colab": {
          "base_uri": "https://localhost:8080/"
        },
        "id": "tx5JcYu-vtt1",
        "outputId": "876f2621-d5f7-49e1-84b8-b729ff3380c8"
      },
      "outputs": [
        {
          "output_type": "stream",
          "name": "stdout",
          "text": [
            "fib = 10 is 9864100\n"
          ]
        }
      ],
      "source": [
        "def recursion(n):\n",
        "   if n == 1: \n",
        "     return 1\n",
        "   else: \n",
        "     return n * recursion(n-1) + n \n",
        "fib = 10\n",
        "\n",
        "print(\"fib = 10\", \"is\", recursion(fib))"
      ]
    },
    {
      "cell_type": "markdown",
      "source": [
        "2.Write a iterative function for f(n)"
      ],
      "metadata": {
        "id": "dQm8iyWIzKDW"
      }
    },
    {
      "cell_type": "code",
      "source": [
        "def f(n):\n",
        "    a = 0\n",
        "    b = 1\n",
        "    for i in range(n):\n",
        "        a,b = b,a + b\n",
        "    return a\n",
        "\n",
        "print (f(10))"
      ],
      "metadata": {
        "colab": {
          "base_uri": "https://localhost:8080/"
        },
        "id": "lgelKvIEzM9Q",
        "outputId": "e030e318-7d55-4d06-9ab4-3e193587b40b"
      },
      "execution_count": null,
      "outputs": [
        {
          "output_type": "stream",
          "name": "stdout",
          "text": [
            "55\n"
          ]
        }
      ]
    },
    {
      "cell_type": "markdown",
      "source": [
        "**EXERCISE 2**"
      ],
      "metadata": {
        "id": "hr5YYOyz_7cG"
      }
    },
    {
      "cell_type": "markdown",
      "source": [
        "1.write a recursive function for f(n)"
      ],
      "metadata": {
        "id": "Flwvdsj5AAH6"
      }
    },
    {
      "cell_type": "code",
      "source": [
        "def f(n):\n",
        "    if n == 1: \n",
        "        return 1\n",
        "\n",
        "    else:\n",
        "        return(n * f(n-1))\n",
        "\n",
        "print(f(10))"
      ],
      "metadata": {
        "colab": {
          "base_uri": "https://localhost:8080/"
        },
        "id": "iqAP8oIjCOlM",
        "outputId": "de402f8c-c838-43e6-8947-874b535723b3"
      },
      "execution_count": null,
      "outputs": [
        {
          "output_type": "stream",
          "name": "stdout",
          "text": [
            "3628800\n"
          ]
        }
      ]
    },
    {
      "cell_type": "markdown",
      "source": [
        "2.Write a iterative function for f(n)"
      ],
      "metadata": {
        "id": "RYcdpRWKHVNk"
      }
    },
    {
      "cell_type": "code",
      "source": [
        "n = 8\n",
        "for i in range(n):\n",
        "   print(10**(3*i))\n",
        "   for i in range(n, -1, -1):\n",
        "     print(10**(3*i)) "
      ],
      "metadata": {
        "colab": {
          "base_uri": "https://localhost:8080/"
        },
        "id": "wnOGP8SqHXJj",
        "outputId": "fd83fb89-5a2d-43a1-8ba0-502060915bd4"
      },
      "execution_count": null,
      "outputs": [
        {
          "output_type": "stream",
          "name": "stdout",
          "text": [
            "1\n",
            "1000000000000000000000000\n",
            "1000000000000000000000\n",
            "1000000000000000000\n",
            "1000000000000000\n",
            "1000000000000\n",
            "1000000000\n",
            "1000000\n",
            "1000\n",
            "1\n",
            "1000\n",
            "1000000000000000000000000\n",
            "1000000000000000000000\n",
            "1000000000000000000\n",
            "1000000000000000\n",
            "1000000000000\n",
            "1000000000\n",
            "1000000\n",
            "1000\n",
            "1\n",
            "1000000\n",
            "1000000000000000000000000\n",
            "1000000000000000000000\n",
            "1000000000000000000\n",
            "1000000000000000\n",
            "1000000000000\n",
            "1000000000\n",
            "1000000\n",
            "1000\n",
            "1\n",
            "1000000000\n",
            "1000000000000000000000000\n",
            "1000000000000000000000\n",
            "1000000000000000000\n",
            "1000000000000000\n",
            "1000000000000\n",
            "1000000000\n",
            "1000000\n",
            "1000\n",
            "1\n",
            "1000000000000\n",
            "1000000000000000000000000\n",
            "1000000000000000000000\n",
            "1000000000000000000\n",
            "1000000000000000\n",
            "1000000000000\n",
            "1000000000\n",
            "1000000\n",
            "1000\n",
            "1\n",
            "1000000000000000\n",
            "1000000000000000000000000\n",
            "1000000000000000000000\n",
            "1000000000000000000\n",
            "1000000000000000\n",
            "1000000000000\n",
            "1000000000\n",
            "1000000\n",
            "1000\n",
            "1\n",
            "1000000000000000000\n",
            "1000000000000000000000000\n",
            "1000000000000000000000\n",
            "1000000000000000000\n",
            "1000000000000000\n",
            "1000000000000\n",
            "1000000000\n",
            "1000000\n",
            "1000\n",
            "1\n",
            "1000000000000000000000\n",
            "1000000000000000000000000\n",
            "1000000000000000000000\n",
            "1000000000000000000\n",
            "1000000000000000\n",
            "1000000000000\n",
            "1000000000\n",
            "1000000\n",
            "1000\n",
            "1\n"
          ]
        }
      ]
    },
    {
      "cell_type": "markdown",
      "source": [
        "**EXERCISE 3** "
      ],
      "metadata": {
        "id": "HuBGGuAbHn8J"
      }
    },
    {
      "cell_type": "markdown",
      "source": [
        "1.write a recursive function for f(n)"
      ],
      "metadata": {
        "id": "HJcXbDQXHq7O"
      }
    },
    {
      "cell_type": "markdown",
      "source": [
        "GCD:Greatest common divisor - Wikipedia gcd(8,12)=4 https://en.wikipedia.org/wiki/Greatest_common_divisor\n",
        "\n",
        "Euclidean algorithm\n",
        "\n",
        "gcd(48,18)\n",
        "\n",
        "= gcd(18,48%18)\n",
        "\n",
        "= gcd(18,12)\n",
        "\n",
        "= gcd(12,18%12)\n",
        "\n",
        "= gcd(12,6)\n",
        "\n",
        "= gcd(6,12%6)\n",
        "\n",
        "= gcd(6,0)\n",
        "\n",
        "= 6\n",
        "\n",
        "output: gcd(n,m)\n",
        "\n",
        "print(gcd(48,18))\n",
        "\n",
        "gcd(18,48) ==> gcd(48,18)\n",
        "\n",
        "gcd(x,0) ==> return x\n",
        "\n",
        "recurrence relation :\n",
        "\n"
      ],
      "metadata": {
        "id": "qZZZVi7BdI6m"
      }
    },
    {
      "cell_type": "code",
      "source": [
        "def gcd (n,m):\n",
        "  if m == 0:\n",
        "    return n\n",
        "  else:\n",
        "    return gcd(m, n%m)\n",
        "\n",
        "gcd(18,48)"
      ],
      "metadata": {
        "id": "sU-gA43GHuZC",
        "colab": {
          "base_uri": "https://localhost:8080/"
        },
        "outputId": "ad5ac590-d3cf-474b-926b-75eb86c4fee2"
      },
      "execution_count": 1,
      "outputs": [
        {
          "output_type": "execute_result",
          "data": {
            "text/plain": [
              "6"
            ]
          },
          "metadata": {},
          "execution_count": 1
        }
      ]
    },
    {
      "cell_type": "markdown",
      "source": [
        "2. Write a iterative function for gcd(n,m)"
      ],
      "metadata": {
        "id": "wkM8HLJSdUUj"
      }
    },
    {
      "cell_type": "code",
      "source": [
        "n = 48\n",
        "m = 18\n",
        "print (\"GCD (%d),(%d)\"% (n,m))\n",
        "while n != m:\n",
        "  if n == m:\n",
        "    print(\"GCD is %d\"% (n))\n",
        "  if n > m:\n",
        "    n -= m\n",
        "  else:\n",
        "    m -= n\n",
        "  if m == n:\n",
        "    print(\"GCD is %d\"% (m))"
      ],
      "metadata": {
        "colab": {
          "base_uri": "https://localhost:8080/"
        },
        "id": "G7Ssa-rCdnqH",
        "outputId": "e97079a8-c252-45c5-ebff-a046d07f0035"
      },
      "execution_count": 3,
      "outputs": [
        {
          "output_type": "stream",
          "name": "stdout",
          "text": [
            "GCD (48),(18)\n",
            "GCD is 6\n"
          ]
        }
      ]
    }
  ]
}