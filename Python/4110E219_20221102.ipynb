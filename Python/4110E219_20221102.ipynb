{
  "nbformat": 4,
  "nbformat_minor": 0,
  "metadata": {
    "colab": {
      "provenance": [],
      "collapsed_sections": []
    },
    "kernelspec": {
      "name": "python3",
      "display_name": "Python 3"
    },
    "language_info": {
      "name": "python"
    }
  },
  "cells": [
    {
      "cell_type": "markdown",
      "source": [
        "# **1102 Test**"
      ],
      "metadata": {
        "id": "x9OqJqGdt5T-"
      }
    },
    {
      "cell_type": "markdown",
      "source": [
        "# **Multiple Choice**"
      ],
      "metadata": {
        "id": "J9wGQ0HHuBel"
      }
    },
    {
      "cell_type": "markdown",
      "source": [
        "# 1."
      ],
      "metadata": {
        "id": "6cSWAMMFxpP0"
      }
    },
    {
      "cell_type": "markdown",
      "source": [
        "\n",
        "Which following is the correct way to create a dictionary in Python?\n",
        "   \n",
        "   (A) students = { 'name' => 'alice' ;  'score' =>60 }\n",
        "  \n",
        "   (B) students = { 'name' = 'alice' ;  'score' =60 }\n",
        "  \n",
        "   (C) students = { 'name' : 'alice' ;  'score' : 60 }\n",
        "   \n",
        "   (D) students = { 'name' => 'alice' ,  'score' =>60 }\n",
        "   \n",
        "   (E) students = { 'name' : 'alice' , 'score' : 60 }\n",
        "\n",
        "\n"
      ],
      "metadata": {
        "id": "ndDjjjSUzsjL"
      }
    },
    {
      "cell_type": "markdown",
      "source": [
        "Answer: **E**"
      ],
      "metadata": {
        "id": "dCooc-l8xvxe"
      }
    },
    {
      "cell_type": "markdown",
      "source": [
        "# 2."
      ],
      "metadata": {
        "id": "Y9c0SXCfx23j"
      }
    },
    {
      "cell_type": "markdown",
      "source": [
        "What does the following Python program fragment do?\n",
        "  \n",
        "   s=0\n",
        "   for i in range (3 , 10) :\n",
        "        s+=i\n",
        "   print (s)\n",
        "   \n",
        "   (A) Calculate the sum of 1+2+…+10\n",
        "\n",
        "   (B) Calculate the sum of 1+4+7+10\n",
        "\n",
        "   (C) Calculate the sum of 3+4+5+6+…+9\n",
        "\n",
        "   (D) Calculate the sum of 3+4+5+6+…+10\n",
        "   \n",
        "   (E) Calculate the sum of 0+2+4+6+…+10\n",
        "\n"
      ],
      "metadata": {
        "id": "6aV7yHFfz3QF"
      }
    },
    {
      "cell_type": "markdown",
      "source": [
        "Answer: **C** \n"
      ],
      "metadata": {
        "id": "MbNhCTX5x_r9"
      }
    },
    {
      "cell_type": "markdown",
      "source": [
        "Explanation: \n",
        "\n",
        "3+4+5+6+7+8+9 #10 is not included\n",
        "\n",
        "\n"
      ],
      "metadata": {
        "id": "i_n1KhHSoOwO"
      }
    },
    {
      "cell_type": "code",
      "source": [
        "3+4+5+6+7+8+9"
      ],
      "metadata": {
        "colab": {
          "base_uri": "https://localhost:8080/"
        },
        "id": "WdMBT-rZyrJP",
        "outputId": "e1c038a8-56bc-47e5-aae2-c6681585f829"
      },
      "execution_count": null,
      "outputs": [
        {
          "output_type": "execute_result",
          "data": {
            "text/plain": [
              "42"
            ]
          },
          "metadata": {},
          "execution_count": 2
        }
      ]
    },
    {
      "cell_type": "code",
      "source": [
        "s=0\n",
        "for i in range (3 , 10) :\n",
        "  s+=i\n",
        "\n",
        "print (s)"
      ],
      "metadata": {
        "colab": {
          "base_uri": "https://localhost:8080/"
        },
        "id": "Rq2CFhDly1kd",
        "outputId": "77db79db-91cd-4588-a79b-64edc1eeeff5"
      },
      "execution_count": null,
      "outputs": [
        {
          "output_type": "stream",
          "name": "stdout",
          "text": [
            "42\n"
          ]
        }
      ]
    },
    {
      "cell_type": "markdown",
      "source": [
        "# 3."
      ],
      "metadata": {
        "id": "maOlSrJAzPqV"
      }
    },
    {
      "cell_type": "markdown",
      "source": [
        "What is the output of this code in Python?\n",
        "     \n",
        "      list = [ ' a ' ,  ' b ' ,  ' c ' ,  ' d ' ,  ' e ' ]\n",
        "      print (list [ 1 : ])\n",
        "   (A) [ ]\n",
        "\n",
        "   (B) [ 'b' ]\n",
        "\n",
        "   (C) [ 'a' ,  'b' ]\n",
        "   \n",
        "   (D) [ 'b' ,  'c' ,  'd' ,  'e' ]\n",
        "\n"
      ],
      "metadata": {
        "id": "cLcrv5vM0G_r"
      }
    },
    {
      "cell_type": "markdown",
      "source": [
        "Answer: **D**"
      ],
      "metadata": {
        "id": "pL97i1J10MYy"
      }
    },
    {
      "cell_type": "code",
      "source": [
        "list = [ ' a ' ,  ' b ' ,  ' c ' ,  ' d ' ,  ' e ' ]\n",
        "print (list [ 1 : ])"
      ],
      "metadata": {
        "colab": {
          "base_uri": "https://localhost:8080/"
        },
        "id": "gIJMyjFU0uwJ",
        "outputId": "ab4c2bb6-6f32-4f05-e2b1-127e08e4099e"
      },
      "execution_count": null,
      "outputs": [
        {
          "output_type": "stream",
          "name": "stdout",
          "text": [
            "[' b ', ' c ', ' d ', ' e ']\n"
          ]
        }
      ]
    },
    {
      "cell_type": "markdown",
      "source": [
        "# 4."
      ],
      "metadata": {
        "id": "TJsUnk-z09b1"
      }
    },
    {
      "cell_type": "markdown",
      "source": [
        "What is the output of this code in Python?\n",
        "       \n",
        "        L1 = [ ]\n",
        "        L1.append ( [1, [2, 3], 4] )\n",
        "        L1.extend ( [7, 8, 9] )\n",
        "        print(L1[0][1][1] + L1[2] )\n",
        "   \n",
        "   (A) 3  (B) 8  (C) 11  (D) 38  (E) None of these"
      ],
      "metadata": {
        "id": "sS-AUoTK0_tU"
      }
    },
    {
      "cell_type": "markdown",
      "source": [
        "Answer: **C**"
      ],
      "metadata": {
        "id": "RkWjvV8k1D_z"
      }
    },
    {
      "cell_type": "code",
      "source": [
        "L1 = [ ]\n",
        "L1.append ( [1, [2, 3], 4] )\n",
        "L1.extend ( [7, 8, 9] )\n",
        "print(L1[0][1][1] + L1[2] )"
      ],
      "metadata": {
        "colab": {
          "base_uri": "https://localhost:8080/"
        },
        "id": "PZojWHO21FmL",
        "outputId": "fdecec03-95cb-4497-917a-4dd4fe5296c7"
      },
      "execution_count": null,
      "outputs": [
        {
          "output_type": "stream",
          "name": "stdout",
          "text": [
            "11\n"
          ]
        }
      ]
    },
    {
      "cell_type": "markdown",
      "source": [
        "# 5."
      ],
      "metadata": {
        "id": "GcZKPNzH1oal"
      }
    },
    {
      "cell_type": "markdown",
      "source": [
        "What is the output of this code in python?\n",
        "\n",
        "        r = lambda q: q * 2\n",
        "        s = lambda q: q * 3\n",
        "        x = 2\n",
        "        x = r (x)\n",
        "        x = s (x)\n",
        "        x = r (x)\n",
        "        print (x)\n",
        "   (A) 2  (B) 4  (C) 6  (D) 12  (E) 24 "
      ],
      "metadata": {
        "id": "8oJajNt31u_9"
      }
    },
    {
      "cell_type": "markdown",
      "source": [
        "Answer: **E**"
      ],
      "metadata": {
        "id": "wCEUj-GY2MzU"
      }
    },
    {
      "cell_type": "code",
      "source": [
        " r = lambda q: q * 2\n",
        " s = lambda q: q * 3\n",
        " x = 2\n",
        " x = r (x)\n",
        " x = s (x)\n",
        " x = r (x)\n",
        " print (x)"
      ],
      "metadata": {
        "colab": {
          "base_uri": "https://localhost:8080/"
        },
        "id": "OVhHLYRg14hr",
        "outputId": "10d533b8-a608-4c68-cc2e-394a936ae14d"
      },
      "execution_count": null,
      "outputs": [
        {
          "output_type": "stream",
          "name": "stdout",
          "text": [
            "24\n"
          ]
        }
      ]
    },
    {
      "cell_type": "markdown",
      "source": [
        "# 6."
      ],
      "metadata": {
        "id": "ufY7IxDP2Toz"
      }
    },
    {
      "cell_type": "markdown",
      "source": [
        "Which of the following conditions correctly describes the output of this code in  Python?\n",
        "\n",
        "         first = [1 , 2 , 3 , 4 , 5]\n",
        "         second = first\n",
        "         second.append (6)\n",
        "         print (first)\n",
        "         print (second)\n",
        "   (A) first=[1, 2, 3, 4, 5], second=[1, 2, 3, 4, 5, 6]\n",
        "\n",
        "   (B) first=[1, 2, 3, 4, 5, 6], second=[1, 2, 3, 4, 5]\n",
        "\n",
        "   (C) first=[1, 2, 3, 4, 5], second=[1, 2, 3, 4, 5]\n",
        "\n",
        "   (D) first=[1, 2, 3, 4, 5, 6], second=[1, 2, 3, 4, 5, 6]\n",
        "  \n",
        "   (E) None of these"
      ],
      "metadata": {
        "id": "q1YXWdwu2Yiz"
      }
    },
    {
      "cell_type": "markdown",
      "source": [
        "Answer: **D**"
      ],
      "metadata": {
        "id": "49EmZvx82wj7"
      }
    },
    {
      "cell_type": "code",
      "source": [
        "first = [1 , 2 , 3 , 4 , 5]\n",
        "second = first\n",
        "second.append (6)\n",
        "print (first)\n",
        "print (second)"
      ],
      "metadata": {
        "colab": {
          "base_uri": "https://localhost:8080/"
        },
        "id": "44Bb-sPS2cPy",
        "outputId": "75c163f6-276d-493d-ce0b-ed5f23e9aaa3"
      },
      "execution_count": null,
      "outputs": [
        {
          "output_type": "stream",
          "name": "stdout",
          "text": [
            "[1, 2, 3, 4, 5, 6]\n",
            "[1, 2, 3, 4, 5, 6]\n"
          ]
        }
      ]
    },
    {
      "cell_type": "markdown",
      "source": [
        "# 7."
      ],
      "metadata": {
        "id": "KuPi84rx23fM"
      }
    },
    {
      "cell_type": "markdown",
      "source": [
        "Answer: **B**"
      ],
      "metadata": {
        "id": "AotfO_8d2-hM"
      }
    },
    {
      "cell_type": "markdown",
      "source": [
        "If the function \n",
        "int volume (int x = 1, int y = 1, int z = 1); \n",
        "\n",
        "is called by the expression volume (7,8), \n",
        "\n",
        "how many default arguments are used?\n",
        "\n",
        "(A) None  (B) One  (C) Two  (D) Three\n",
        "\n",
        "(E) It depends on the runtime environment."
      ],
      "metadata": {
        "id": "i4WN5GgM256z"
      }
    },
    {
      "cell_type": "markdown",
      "source": [
        "# **B. reading comprehension:What is the output of this code in Python?**"
      ],
      "metadata": {
        "id": "RJegMxVY4QsD"
      }
    },
    {
      "cell_type": "markdown",
      "source": [
        "B1.What is the output of this code in Python? explain it.\n",
        "```python\n",
        "# primes.py\n",
        "primes = []  # this will contain the primes at the end\n",
        "upto = 100  # the limit, inclusive\n",
        "for n in range(2, upto + 1):\n",
        "    is_prime = True  # flag, new at each iteration of outer for\n",
        "    for divisor in range(2, n):\n",
        "        if n % divisor == 0:\n",
        "            is_prime = False\n",
        "            break\n",
        "    if is_prime:  # check on flag\n",
        "        primes.append(n)\n",
        "print(primes)\n",
        "# This is formatted as code\n",
        "```\n",
        "\n"
      ],
      "metadata": {
        "id": "PW7H8CoV4xdK"
      }
    },
    {
      "cell_type": "markdown",
      "source": [
        "Answer:"
      ],
      "metadata": {
        "id": "dDR0Rncm9XE0"
      }
    },
    {
      "cell_type": "code",
      "source": [
        "# primes.py\n",
        "primes = []  # this will contain the primes at the end\n",
        "upto = 100  # the limit, inclusive\n",
        "for n in range(2, upto + 1):\n",
        "    is_prime = True  # flag, new at each iteration of outer for\n",
        "    for divisor in range(2, n):\n",
        "        if n % divisor == 0:\n",
        "            is_prime = False\n",
        "            break\n",
        "    if is_prime:  # check on flag\n",
        "        primes.append(n)\n",
        "print(primes)"
      ],
      "metadata": {
        "colab": {
          "base_uri": "https://localhost:8080/"
        },
        "id": "eb5GhhIR6q26",
        "outputId": "e43de088-74fd-47f2-b22e-38ccde098277"
      },
      "execution_count": null,
      "outputs": [
        {
          "output_type": "stream",
          "name": "stdout",
          "text": [
            "[2, 3, 5, 7, 11, 13, 17, 19, 23, 29, 31, 37, 41, 43, 47, 53, 59, 61, 67, 71, 73, 79, 83, 89, 97]\n"
          ]
        }
      ]
    },
    {
      "cell_type": "markdown",
      "source": [
        "EXPLANATION: \n",
        " \n",
        "    # primes.py\n",
        "    primes = []  # this will contain the primes at the end\n",
        "    upto = 100  # the limit, inclusive\n",
        "    for n in range(2, upto + 1):\n",
        "        is_prime = True  # flag, new at each iteration of outer for\n",
        "        for divisor in range(2, n):\n",
        "        if n % divisor == 0:\n",
        "            is_prime = False # if the remainder of n is equal to 0 then it is not included\n",
        "            break\n",
        "    if is_prime:  # check on flag\n",
        "        primes.append(n) # if is_prime is true or the remainder of n is not    \n",
        "        equal to 0 then it will append or added in the list\n",
        "    print(primes)\n",
        "\n",
        "\n",
        "\n",
        "\n",
        "\n"
      ],
      "metadata": {
        "id": "1mxdUTlRrxHX"
      }
    },
    {
      "cell_type": "markdown",
      "source": [
        "B2.What is the output of this code in Python? explain it.\n",
        "```python\n",
        "# primes.else.py\n",
        "primes = []\n",
        "upto = 100\n",
        "for n in range(2, upto + 1):\n",
        "    for divisor in range(2, n):\n",
        "        if n % divisor == 0:\n",
        "            break\n",
        "    else:\n",
        "        primes.append(n)\n",
        "print(primes)\n",
        "\n",
        "\n",
        "\n"
      ],
      "metadata": {
        "id": "uo8qCUn264cq"
      }
    },
    {
      "cell_type": "markdown",
      "source": [
        "Answer:"
      ],
      "metadata": {
        "id": "jr6Hrx0n9Url"
      }
    },
    {
      "cell_type": "code",
      "source": [
        "# primes.else.py\n",
        "primes = []\n",
        "upto = 100\n",
        "for n in range(2, upto + 1):\n",
        "    for divisor in range(2, n):\n",
        "        if n % divisor == 0:\n",
        "            break\n",
        "    else:\n",
        "        primes.append(n)\n",
        "print(primes)\n",
        "# This is formatted as code"
      ],
      "metadata": {
        "colab": {
          "base_uri": "https://localhost:8080/"
        },
        "id": "ZpWVo_hA69Ed",
        "outputId": "ee8881ae-c23d-4a7b-a566-729ded0002e1"
      },
      "execution_count": null,
      "outputs": [
        {
          "output_type": "stream",
          "name": "stdout",
          "text": [
            "[2, 3, 5, 7, 11, 13, 17, 19, 23, 29, 31, 37, 41, 43, 47, 53, 59, 61, 67, 71, 73, 79, 83, 89, 97]\n"
          ]
        }
      ]
    },
    {
      "cell_type": "markdown",
      "source": [
        "EXPLANATION: \n",
        "    # primes.else.py\n",
        "\n",
        "    primes = [] # will contain the prime numbers\n",
        "\n",
        "    upto = 100 # limit\n",
        "\n",
        "    for n in range(2, upto + 1):\n",
        "        for divisor in range(2, n):\n",
        "\n",
        "        if n % divisor == 0: # if the remainder of n is equal to 0 then it is not included\n",
        "            break\n",
        "    else:\n",
        "        primes.append(n) # if the remainder of n is not equal to 0 then it will \n",
        "        append or added in the list\n",
        "    print(primes)\n",
        "\n",
        "   \n",
        "  \n",
        "\n",
        "\n",
        "\n",
        "\n",
        "\n",
        "\n"
      ],
      "metadata": {
        "id": "CrBts5G5qxSt"
      }
    },
    {
      "cell_type": "markdown",
      "source": [
        "B3.What is the output of this code in Python?explain it.\n",
        "\n",
        "cubes = [x**3 for x in range(1,6)]\n",
        "\n",
        "print(cubes)"
      ],
      "metadata": {
        "id": "ebXO4eS35Ava"
      }
    },
    {
      "cell_type": "markdown",
      "source": [
        "Answer: "
      ],
      "metadata": {
        "id": "ZsYIPnLB7DYX"
      }
    },
    {
      "cell_type": "code",
      "source": [
        "cubes = [x**3 for x in range(1,6)]\n",
        "print(cubes)"
      ],
      "metadata": {
        "colab": {
          "base_uri": "https://localhost:8080/"
        },
        "id": "nJev7mab6FE7",
        "outputId": "8e7152f0-c624-4773-8877-c845162a3189"
      },
      "execution_count": null,
      "outputs": [
        {
          "output_type": "stream",
          "name": "stdout",
          "text": [
            "[1, 8, 27, 64, 125]\n"
          ]
        }
      ]
    },
    {
      "cell_type": "markdown",
      "source": [
        "EXPLANATION: \n",
        "\n",
        "    range(1,6) == > 1,2,3,4,5 \n",
        "\n",
        "   `[x**3 for x in range(1,6)] ==> [1**3 , 2**3 , ...., 5**3] `"
      ],
      "metadata": {
        "id": "2orwKhXU7KVN"
      }
    },
    {
      "cell_type": "code",
      "source": [
        "2**3"
      ],
      "metadata": {
        "colab": {
          "base_uri": "https://localhost:8080/"
        },
        "id": "4x-TYU5n7gCC",
        "outputId": "19d0bbab-31f0-4995-94d9-1fbc2bece3a9"
      },
      "execution_count": null,
      "outputs": [
        {
          "output_type": "execute_result",
          "data": {
            "text/plain": [
              "8"
            ]
          },
          "metadata": {},
          "execution_count": 23
        }
      ]
    },
    {
      "cell_type": "markdown",
      "source": [
        "# **C.Programming Python**"
      ],
      "metadata": {
        "id": "Nctwo2Xg7zq9"
      }
    },
    {
      "cell_type": "markdown",
      "source": [
        "The Fibonacci numbers may be defined by the recurrence relation\n",
        "\n",
        "F_{0}=0, F_{1}=1\n",
        "\n",
        "and\n",
        "\n",
        "F_{n} = F_{n-1} + F_{n-2}   for n > 1.\n",
        "\n",
        "0,1,1,2,3,5,8,......\n",
        "\n",
        "Under some older definitions, the value  F_{0}=0 is omitted, \n",
        "\n",
        "so that the sequence starts with F_{1}=F_{2}=1 and \n",
        "\n",
        "the recurrence F_{n}=F_{n-1}+F_{n-2} is valid for n > 2\n",
        "\n",
        "(1)Write a Python function/Program to Find Fibonacci Numbers using Recursion\n",
        "\n",
        "(2)use iterative Approach To Find the nth Term Of Fibonacci Sequence(You need to write a function using loop)"
      ],
      "metadata": {
        "id": "cb4fIgdj71kj"
      }
    },
    {
      "cell_type": "markdown",
      "source": [
        "# **1.**"
      ],
      "metadata": {
        "id": "8BWWapj88EM8"
      }
    },
    {
      "cell_type": "code",
      "source": [
        "def recur_fibo(n):\n",
        "   if n <= 1:\n",
        "       return n\n",
        "   else:\n",
        "       return(recur_fibo(n-1) + recur_fibo(n-2))\n",
        "\n",
        "nterms = 10\n",
        "\n",
        "# check if the number of terms is valid\n",
        "if nterms <= 0:\n",
        "   print(\"Plese enter a positive integer\")\n",
        "else:\n",
        "   print(\"Fibonacci sequence:\")\n",
        "   for i in range(nterms):\n",
        "       print(recur_fibo(i))"
      ],
      "metadata": {
        "colab": {
          "base_uri": "https://localhost:8080/"
        },
        "id": "AM6xB3Tp_viN",
        "outputId": "e790cb6e-5c60-4d9e-e68a-acf2cb20c09f"
      },
      "execution_count": null,
      "outputs": [
        {
          "output_type": "stream",
          "name": "stdout",
          "text": [
            "Fibonacci sequence:\n",
            "0\n",
            "1\n",
            "1\n",
            "2\n",
            "3\n",
            "5\n",
            "8\n",
            "13\n",
            "21\n",
            "34\n"
          ]
        }
      ]
    },
    {
      "cell_type": "markdown",
      "source": [
        "# **2.**"
      ],
      "metadata": {
        "id": "6t1pZm_tAzZX"
      }
    },
    {
      "cell_type": "code",
      "source": [
        "def f(n):\n",
        "  a = 0\n",
        "  b = 1\n",
        "  if n == 0:\n",
        "    return a\n",
        "  if n == 1:\n",
        "    return b\n",
        "  else:\n",
        "    for i in range(2,n):\n",
        "        c = a + b\n",
        "        a = b\n",
        "        b = c\n",
        "    return b\n",
        "f(8) "
      ],
      "metadata": {
        "colab": {
          "base_uri": "https://localhost:8080/"
        },
        "id": "-5fGKuMtuS8V",
        "outputId": "f951678b-28a5-47f3-91a8-9e70e22979b1"
      },
      "execution_count": 4,
      "outputs": [
        {
          "output_type": "execute_result",
          "data": {
            "text/plain": [
              "13"
            ]
          },
          "metadata": {},
          "execution_count": 4
        }
      ]
    }
  ]
}