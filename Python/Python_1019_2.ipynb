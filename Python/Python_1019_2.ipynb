{
  "nbformat": 4,
  "nbformat_minor": 0,
  "metadata": {
    "colab": {
      "provenance": [],
      "collapsed_sections": []
    },
    "kernelspec": {
      "name": "python3",
      "display_name": "Python 3"
    },
    "language_info": {
      "name": "python"
    }
  },
  "cells": [
    {
      "cell_type": "markdown",
      "source": [
        "# **1019 4110E219**"
      ],
      "metadata": {
        "id": "qD4lLOic4non"
      }
    },
    {
      "cell_type": "markdown",
      "source": [
        "For Loop"
      ],
      "metadata": {
        "id": "UWfoKZVN4tcX"
      }
    },
    {
      "cell_type": "markdown",
      "source": [
        "Exercise 1: Print each fruit in a fruit list:"
      ],
      "metadata": {
        "id": "ubm7gV7Y63D2"
      }
    },
    {
      "cell_type": "code",
      "source": [
        "fruits = [\"grapes\", \"kiwi\", \"lemons\"]\n",
        "for x in fruits:\n",
        "  print(x) \n"
      ],
      "metadata": {
        "colab": {
          "base_uri": "https://localhost:8080/"
        },
        "id": "s_Guni0u6ndt",
        "outputId": "77ae5441-0525-42a7-838e-eeec8e9e757a"
      },
      "execution_count": 1,
      "outputs": [
        {
          "output_type": "stream",
          "name": "stdout",
          "text": [
            "grapes\n",
            "kiwi\n",
            "lemons\n"
          ]
        }
      ]
    },
    {
      "cell_type": "markdown",
      "source": [
        "Exercise 2: Loop through the letters in the word \"joana\":"
      ],
      "metadata": {
        "id": "mCxosRtr65fV"
      }
    },
    {
      "cell_type": "code",
      "source": [
        "for x in \"joana\":\n",
        "  print(x) "
      ],
      "metadata": {
        "colab": {
          "base_uri": "https://localhost:8080/"
        },
        "id": "LF6gR-MQ7DG9",
        "outputId": "1b6363e5-3e11-403c-fce0-e4f08c44d72c"
      },
      "execution_count": 2,
      "outputs": [
        {
          "output_type": "stream",
          "name": "stdout",
          "text": [
            "j\n",
            "o\n",
            "a\n",
            "n\n",
            "a\n"
          ]
        }
      ]
    },
    {
      "cell_type": "markdown",
      "source": [
        "Exercise 3: Exit the loop when x is \"taiwan\":"
      ],
      "metadata": {
        "id": "2EUl10Pg7MSd"
      }
    },
    {
      "cell_type": "code",
      "source": [
        "country = [\"taiwan\", \"france\", \"japan\"]\n",
        "for x in country:\n",
        "  print(x) \n",
        "  if x == \"taiwan\":\n",
        "    break\n"
      ],
      "metadata": {
        "colab": {
          "base_uri": "https://localhost:8080/"
        },
        "id": "Vk2wj9nT7YzN",
        "outputId": "2a0fda54-1b3b-4628-9eed-7fdd4166e95a"
      },
      "execution_count": 3,
      "outputs": [
        {
          "output_type": "stream",
          "name": "stdout",
          "text": [
            "taiwan\n"
          ]
        }
      ]
    },
    {
      "cell_type": "markdown",
      "source": [
        "Exercise 4: Exit the loop when x is \"taiwan\", but this time the break comes before the print:"
      ],
      "metadata": {
        "id": "UEURraya7w3d"
      }
    },
    {
      "cell_type": "code",
      "source": [
        "country = [\"taiwan\", \"france\", \"japan\"]\n",
        "for x in country:\n",
        "  print(x) \n",
        "  if x == \"taiwan\":\n",
        "    break\n",
        "  print(x) \n"
      ],
      "metadata": {
        "colab": {
          "base_uri": "https://localhost:8080/"
        },
        "id": "PVnErZGU71je",
        "outputId": "a1605518-a6d1-4390-84e3-92327b0fe0c0"
      },
      "execution_count": 7,
      "outputs": [
        {
          "output_type": "stream",
          "name": "stdout",
          "text": [
            "taiwan\n"
          ]
        }
      ]
    },
    {
      "cell_type": "markdown",
      "source": [
        "Exercise 5: Do not print marie:"
      ],
      "metadata": {
        "id": "gWO0zd9Y8lj4"
      }
    },
    {
      "cell_type": "code",
      "source": [
        "names = [\"joana\", \"marie\", \"garcia\"]\n",
        "for x in names:\n",
        "  if x == \"marie\":\n",
        "    continue\n",
        "  print(x) "
      ],
      "metadata": {
        "colab": {
          "base_uri": "https://localhost:8080/"
        },
        "id": "c-wVhk2x8pwm",
        "outputId": "ddb8627b-a979-4c8b-e981-050764a97aca"
      },
      "execution_count": 8,
      "outputs": [
        {
          "output_type": "stream",
          "name": "stdout",
          "text": [
            "joana\n",
            "garcia\n"
          ]
        }
      ]
    },
    {
      "cell_type": "markdown",
      "source": [
        "Exercise 6: Using the range() function:"
      ],
      "metadata": {
        "id": "QSQ1K1OH8-j_"
      }
    },
    {
      "cell_type": "code",
      "source": [
        "for x in range(8):\n",
        "  print(x) \n"
      ],
      "metadata": {
        "colab": {
          "base_uri": "https://localhost:8080/"
        },
        "id": "wn2WM7Of9F_2",
        "outputId": "37d7fdc7-819b-46dc-c4b1-a2deb0cb84f3"
      },
      "execution_count": 9,
      "outputs": [
        {
          "output_type": "stream",
          "name": "stdout",
          "text": [
            "0\n",
            "1\n",
            "2\n",
            "3\n",
            "4\n",
            "5\n",
            "6\n",
            "7\n"
          ]
        }
      ]
    },
    {
      "cell_type": "markdown",
      "source": [
        "Exercise 7: Using the start parameter:"
      ],
      "metadata": {
        "id": "CKsZc6UvAMVZ"
      }
    },
    {
      "cell_type": "code",
      "source": [
        "for x in range(5, 9):\n",
        "  print(x) \n"
      ],
      "metadata": {
        "colab": {
          "base_uri": "https://localhost:8080/"
        },
        "id": "j4L3W5ErAPs4",
        "outputId": "39d05184-1f52-4491-be39-331fdf0ac8b8"
      },
      "execution_count": 10,
      "outputs": [
        {
          "output_type": "stream",
          "name": "stdout",
          "text": [
            "5\n",
            "6\n",
            "7\n",
            "8\n"
          ]
        }
      ]
    },
    {
      "cell_type": "markdown",
      "source": [
        "Exercise 8: Increment the sequence with 3 (default is 1):"
      ],
      "metadata": {
        "id": "bZzw9IkbAYkg"
      }
    },
    {
      "cell_type": "code",
      "source": [
        "for x in range(4, 45, 3):\n",
        "  print(x) \n"
      ],
      "metadata": {
        "colab": {
          "base_uri": "https://localhost:8080/"
        },
        "id": "H_Ro7FefAa8m",
        "outputId": "38839ee3-7c37-4e6d-ddfc-7dca6b90aa4f"
      },
      "execution_count": 13,
      "outputs": [
        {
          "output_type": "stream",
          "name": "stdout",
          "text": [
            "4\n",
            "7\n",
            "10\n",
            "13\n",
            "16\n",
            "19\n",
            "22\n",
            "25\n",
            "28\n",
            "31\n",
            "34\n",
            "37\n",
            "40\n",
            "43\n"
          ]
        }
      ]
    },
    {
      "cell_type": "markdown",
      "source": [
        "Exercise 9: Print all numbers from 0 to 7, and print a message when the loop has ended:"
      ],
      "metadata": {
        "id": "LldKMWZOAthn"
      }
    },
    {
      "cell_type": "code",
      "source": [
        "for x in range(8):\n",
        "  print(x)\n",
        "else:\n",
        "  print(\"Finally finished!\")"
      ],
      "metadata": {
        "colab": {
          "base_uri": "https://localhost:8080/"
        },
        "id": "8qWu3fbrAz_t",
        "outputId": "3065b93b-9708-47a3-cf99-7587265a500c"
      },
      "execution_count": 15,
      "outputs": [
        {
          "output_type": "stream",
          "name": "stdout",
          "text": [
            "0\n",
            "1\n",
            "2\n",
            "3\n",
            "4\n",
            "5\n",
            "6\n",
            "7\n",
            "Finally finished!\n"
          ]
        }
      ]
    },
    {
      "cell_type": "markdown",
      "source": [
        "Exercise 10: Break the loop when x is 5, and see what happens with the else block:"
      ],
      "metadata": {
        "id": "PbVZq1cTBB4J"
      }
    },
    {
      "cell_type": "code",
      "source": [
        "for x in range(8):\n",
        "  if x == 5: break\n",
        "  print(x)\n",
        "else:\n",
        "  print(\"Finally finished!\")\n",
        "\n",
        "#If the loop breaks, the else block is not executed."
      ],
      "metadata": {
        "colab": {
          "base_uri": "https://localhost:8080/"
        },
        "id": "l9rVusw2B0n-",
        "outputId": "f35733b8-9144-42bc-a5c9-8e6ad0eb8fd2"
      },
      "execution_count": 16,
      "outputs": [
        {
          "output_type": "stream",
          "name": "stdout",
          "text": [
            "0\n",
            "1\n",
            "2\n",
            "3\n",
            "4\n"
          ]
        }
      ]
    },
    {
      "cell_type": "markdown",
      "source": [
        "Exercise 11: Print each adjective for every fruit:"
      ],
      "metadata": {
        "id": "R1VtYUslB7Qn"
      }
    },
    {
      "cell_type": "code",
      "source": [
        "adj = [\"yellow,\", \"fun\", \"fast\"]\n",
        "fruits = [\"grapes\", \"kiwi\", \"lemon\"]\n",
        "\n",
        "for x in adj:\n",
        "  for y in fruits:\n",
        "    print(x, y)"
      ],
      "metadata": {
        "colab": {
          "base_uri": "https://localhost:8080/"
        },
        "id": "oHh2S6tsB_jf",
        "outputId": "457be733-0584-478e-cc8e-9e6c818b48bf"
      },
      "execution_count": 17,
      "outputs": [
        {
          "output_type": "stream",
          "name": "stdout",
          "text": [
            "yellow, grapes\n",
            "yellow, kiwi\n",
            "yellow, lemon\n",
            "fun grapes\n",
            "fun kiwi\n",
            "fun lemon\n",
            "fast grapes\n",
            "fast kiwi\n",
            "fast lemon\n"
          ]
        }
      ]
    },
    {
      "cell_type": "markdown",
      "source": [
        "Exercise 12: The pass Statement\n",
        "for loops cannot be empty, but if you for some reason have a for loop with no content, put in the pass statement to avoid getting an error."
      ],
      "metadata": {
        "id": "3J4p_ZAOQ1gD"
      }
    },
    {
      "cell_type": "code",
      "source": [
        "for x in [0, 1, 2]:\n",
        "  pass\n",
        "\n",
        "# having an empty for loop like this, would raise an error without the pass statement\n"
      ],
      "metadata": {
        "id": "HH-iQLUyQ_To"
      },
      "execution_count": 18,
      "outputs": []
    }
  ]
}