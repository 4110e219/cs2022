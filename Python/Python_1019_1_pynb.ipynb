{
  "nbformat": 4,
  "nbformat_minor": 0,
  "metadata": {
    "colab": {
      "provenance": [],
      "collapsed_sections": []
    },
    "kernelspec": {
      "name": "python3",
      "display_name": "Python 3"
    },
    "language_info": {
      "name": "python"
    }
  },
  "cells": [
    {
      "cell_type": "markdown",
      "source": [
        "# **1019 4110E219**"
      ],
      "metadata": {
        "id": "tTiQZQzft-bx"
      }
    },
    {
      "cell_type": "markdown",
      "source": [
        "Python Conditions and If statements"
      ],
      "metadata": {
        "id": "yYaSCWRvtBkz"
      }
    },
    {
      "cell_type": "markdown",
      "source": [
        "Exercise 1 : Print \"Hello Python\" if a is greater than b."
      ],
      "metadata": {
        "id": "vFVOkkK2t3Gl"
      }
    },
    {
      "cell_type": "code",
      "execution_count": 1,
      "metadata": {
        "colab": {
          "base_uri": "https://localhost:8080/"
        },
        "id": "YQQXcfAEls0H",
        "outputId": "e81fdc24-ea25-4c30-f032-bc8be0950f58"
      },
      "outputs": [
        {
          "output_type": "stream",
          "name": "stdout",
          "text": [
            "Hello Python\n"
          ]
        }
      ],
      "source": [
        "a = 27\n",
        "b = 12\n",
        "\n",
        "if a > b:\n",
        "  print(\"Hello Python\")"
      ]
    },
    {
      "cell_type": "markdown",
      "source": [
        "Exercise 2: Print \"Hello World\" if a is not equal to b."
      ],
      "metadata": {
        "id": "inkjcYMjuwLM"
      }
    },
    {
      "cell_type": "code",
      "source": [
        "a = 27\n",
        "b = 12\n",
        " \n",
        "if a != b:\n",
        "  print(\"Hello World\")"
      ],
      "metadata": {
        "colab": {
          "base_uri": "https://localhost:8080/"
        },
        "id": "53KE0eTMuzjp",
        "outputId": "58de1b3c-012f-482b-a47f-6dc3f8c6fc18"
      },
      "execution_count": 2,
      "outputs": [
        {
          "output_type": "stream",
          "name": "stdout",
          "text": [
            "Hello World\n"
          ]
        }
      ]
    },
    {
      "cell_type": "markdown",
      "source": [
        "Exercise 3: Print \"Yes\" if a is equal to b, otherwise print \"No\"."
      ],
      "metadata": {
        "id": "6NUoCtEMvWyl"
      }
    },
    {
      "cell_type": "code",
      "source": [
        "a = 27\n",
        "b = 12\n",
        "if a == b:\n",
        "  print(\"Yes\")\n",
        "else:\n",
        "  print(\"No\")"
      ],
      "metadata": {
        "colab": {
          "base_uri": "https://localhost:8080/"
        },
        "id": "9b3qmCP7va98",
        "outputId": "880b39ae-1c83-4955-f9b2-73737c795354"
      },
      "execution_count": 3,
      "outputs": [
        {
          "output_type": "stream",
          "name": "stdout",
          "text": [
            "No\n"
          ]
        }
      ]
    },
    {
      "cell_type": "markdown",
      "source": [
        "Exercise 4: Print \"1\" if a is equal to b, print \"2\" if a is greater than b, otherwise print \"3\".\n",
        "\n"
      ],
      "metadata": {
        "id": "t_Gy3rZKwcsE"
      }
    },
    {
      "cell_type": "code",
      "source": [
        "a = 27\n",
        "b = 12\n",
        "if a == b: \n",
        "  print(\"1\")\n",
        "elif a > b: \n",
        "  print(\"2\")\n",
        "else: \n",
        "  print(\"3\")"
      ],
      "metadata": {
        "colab": {
          "base_uri": "https://localhost:8080/"
        },
        "id": "4VOxhMprxeHN",
        "outputId": "c87a1c70-68a9-49e0-d5a0-8c1e510b4746"
      },
      "execution_count": 4,
      "outputs": [
        {
          "output_type": "stream",
          "name": "stdout",
          "text": [
            "2\n"
          ]
        }
      ]
    },
    {
      "cell_type": "markdown",
      "source": [
        "Exercise 5: Print \"Hello\" if a is equal to b, and c is equal to d.\n",
        "\n"
      ],
      "metadata": {
        "id": "oGuCC5NLyPve"
      }
    },
    {
      "cell_type": "code",
      "source": [
        "if a == b and c == d:\n",
        "  print(\"Hello\")"
      ],
      "metadata": {
        "id": "StCDwWBz3JGO"
      },
      "execution_count": 18,
      "outputs": []
    },
    {
      "cell_type": "markdown",
      "source": [
        "Exercise 6: Print \"Hello\" if a is equal to b, or if c is equal to d."
      ],
      "metadata": {
        "id": "7b52J4R-yjU0"
      }
    },
    {
      "cell_type": "code",
      "source": [
        "if a == b or c == d: \n",
        "  print(\"Hello\")"
      ],
      "metadata": {
        "id": "l3r-rb5Wym7s"
      },
      "execution_count": null,
      "outputs": []
    },
    {
      "cell_type": "markdown",
      "source": [
        "Exercise 7: This example misses indentations to be correct.\n",
        "\n",
        "Insert the missing indentation to make the code correct:"
      ],
      "metadata": {
        "id": "a5rE0cEezgBW"
      }
    },
    {
      "cell_type": "code",
      "source": [
        "if 5 > 2:\n",
        "   print(\"Five is greater than two!\")"
      ],
      "metadata": {
        "colab": {
          "base_uri": "https://localhost:8080/"
        },
        "id": "coEJwn-izyUf",
        "outputId": "51bdc635-1548-4666-84e7-23ec391f5bc1"
      },
      "execution_count": 11,
      "outputs": [
        {
          "output_type": "stream",
          "name": "stdout",
          "text": [
            "Five is greater than two!\n"
          ]
        }
      ]
    },
    {
      "cell_type": "markdown",
      "source": [
        "Exercise 8: Use the correct short hand syntax to put the following statement on one line:"
      ],
      "metadata": {
        "id": "8XYrm-n0z4Jt"
      }
    },
    {
      "cell_type": "code",
      "source": [
        "if 5 > 2: print(\"Five is greater than two!\")"
      ],
      "metadata": {
        "colab": {
          "base_uri": "https://localhost:8080/"
        },
        "id": "uOGapLk30Cym",
        "outputId": "d7c50df9-43ae-4f10-eb9b-e97cd8abc2c9"
      },
      "execution_count": 12,
      "outputs": [
        {
          "output_type": "stream",
          "name": "stdout",
          "text": [
            "Five is greater than two!\n"
          ]
        }
      ]
    },
    {
      "cell_type": "markdown",
      "source": [
        "Exercise 9: Use the correct short hand syntax to write the following conditional expression in one line:"
      ],
      "metadata": {
        "id": "62bU8POV3hH9"
      }
    },
    {
      "cell_type": "code",
      "source": [
        "print(\"Yes\") if 5 > 2 else print(\"No\")"
      ],
      "metadata": {
        "colab": {
          "base_uri": "https://localhost:8080/"
        },
        "id": "3ezJ53393k-E",
        "outputId": "fbcc7863-6ea6-4383-cdd8-6f7b6bf14081"
      },
      "execution_count": 19,
      "outputs": [
        {
          "output_type": "stream",
          "name": "stdout",
          "text": [
            "Yes\n"
          ]
        }
      ]
    }
  ]
}