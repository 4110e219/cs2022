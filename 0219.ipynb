{
  "nbformat": 4,
  "nbformat_minor": 0,
  "metadata": {
    "colab": {
      "provenance": [],
      "authorship_tag": "ABX9TyMRA1/ZioFS3tSUXoEsYZiU",
      "include_colab_link": true
    },
    "kernelspec": {
      "name": "python3",
      "display_name": "Python 3"
    },
    "language_info": {
      "name": "python"
    }
  },
  "cells": [
    {
      "cell_type": "markdown",
      "metadata": {
        "id": "view-in-github",
        "colab_type": "text"
      },
      "source": [
        "<a href=\"https://colab.research.google.com/github/4110e219/cs2022/blob/main/0219.ipynb\" target=\"_parent\"><img src=\"https://colab.research.google.com/assets/colab-badge.svg\" alt=\"Open In Colab\"/></a>"
      ]
    },
    {
      "cell_type": "code",
      "source": [
        "a = \"Hello, 喬安蒂\"\n",
        "print(a[7])\n",
        "\n",
        "# strings == > array\n",
        "# index begins with 0"
      ],
      "metadata": {
        "colab": {
          "base_uri": "https://localhost:8080/"
        },
        "id": "42iVkyFukfpN",
        "outputId": "e1476028-aa15-4c89-f0ad-4c884d2628ae"
      },
      "execution_count": 21,
      "outputs": [
        {
          "output_type": "stream",
          "name": "stdout",
          "text": [
            "喬\n"
          ]
        }
      ]
    },
    {
      "cell_type": "code",
      "source": [
        "a = \"Hello, 喬安蒂\"\n",
        "print(a[4])\n",
        "\n",
        "# strings == > array\n",
        "# index begins with 0"
      ],
      "metadata": {
        "colab": {
          "base_uri": "https://localhost:8080/"
        },
        "id": "g7oddSU4rDNh",
        "outputId": "e986f0c1-d21b-46c6-fb14-60b6310753dd"
      },
      "execution_count": 22,
      "outputs": [
        {
          "output_type": "stream",
          "name": "stdout",
          "text": [
            "o\n"
          ]
        }
      ]
    },
    {
      "cell_type": "code",
      "source": [],
      "metadata": {
        "id": "xsc1DpWUlX6T"
      },
      "execution_count": null,
      "outputs": []
    },
    {
      "cell_type": "code",
      "source": [
        "for x in \"喬安蒂\":\n",
        "  print(x)"
      ],
      "metadata": {
        "colab": {
          "base_uri": "https://localhost:8080/"
        },
        "id": "6w5w0Yj-lKda",
        "outputId": "bfc0ef11-d860-4154-fe2f-80f9d143c8b5"
      },
      "execution_count": 14,
      "outputs": [
        {
          "output_type": "stream",
          "name": "stdout",
          "text": [
            "喬\n",
            "安\n",
            "蒂\n"
          ]
        }
      ]
    },
    {
      "cell_type": "code",
      "source": [
        "a = \"Hello, 喬安蒂!\"\n",
        "print(len(a))\n",
        "# wrong: print(length(a))"
      ],
      "metadata": {
        "colab": {
          "base_uri": "https://localhost:8080/"
        },
        "id": "nedM6skalaWV",
        "outputId": "6e48e097-5df2-4337-dfc5-05a6013fcd65"
      },
      "execution_count": 15,
      "outputs": [
        {
          "output_type": "stream",
          "name": "stdout",
          "text": [
            "11\n"
          ]
        }
      ]
    },
    {
      "cell_type": "code",
      "source": [
        "a = \"dshdsjadhsjahdsjhdecwej  dsaksdjl\"\n",
        "print(len(a))\n",
        "# wrong: print(length(a))\n",
        "# 33 = 31 letter 2 space"
      ],
      "metadata": {
        "colab": {
          "base_uri": "https://localhost:8080/"
        },
        "id": "zG0w5xoym2Tt",
        "outputId": "ff9d35de-71b1-4cd9-9cd4-1fec1aba4536"
      },
      "execution_count": 11,
      "outputs": [
        {
          "output_type": "stream",
          "name": "stdout",
          "text": [
            "33\n"
          ]
        }
      ]
    },
    {
      "cell_type": "code",
      "source": [
        "txt = \"The best things in life are free!Gofor it \"\n",
        "# print(\"free\" in txt) == > True\n",
        "# print(\"Gofor\" in txt) == > True\n",
        "print(\"Gofo\" in txt)  # False\n"
      ],
      "metadata": {
        "colab": {
          "base_uri": "https://localhost:8080/"
        },
        "id": "pA2cDevNnMFi",
        "outputId": "543eac13-6163-45bb-8b1c-817008f4d384"
      },
      "execution_count": 23,
      "outputs": [
        {
          "output_type": "stream",
          "name": "stdout",
          "text": [
            "True\n"
          ]
        }
      ]
    },
    {
      "cell_type": "code",
      "source": [
        "txt = \"The best things in life are free!Itrust you \"\n",
        "if \"trust you\" in txt:\n",
        "  print (\"trust you, 'free' is present.\")"
      ],
      "metadata": {
        "colab": {
          "base_uri": "https://localhost:8080/"
        },
        "id": "pfkWQtdkoQ8Y",
        "outputId": "ef6592b6-7c7e-4da9-c441-7b34f08f1248"
      },
      "execution_count": 19,
      "outputs": [
        {
          "output_type": "stream",
          "name": "stdout",
          "text": [
            "trust you, 'free' is present.\n"
          ]
        }
      ]
    },
    {
      "cell_type": "code",
      "source": [
        "b = \"Hello, Joana!\"\n",
        "print(b[-5:-2])\n",
        "# -2 not included"
      ],
      "metadata": {
        "colab": {
          "base_uri": "https://localhost:8080/"
        },
        "id": "oyGLsx2ItJcM",
        "outputId": "01ffb6f8-2239-422d-9b34-0e0b5390b020"
      },
      "execution_count": 41,
      "outputs": [
        {
          "output_type": "stream",
          "name": "stdout",
          "text": [
            "oan\n"
          ]
        }
      ]
    },
    {
      "cell_type": "code",
      "source": [
        "\"Hello, Joana!\"\n",
        "print(b.upper())"
      ],
      "metadata": {
        "colab": {
          "base_uri": "https://localhost:8080/"
        },
        "id": "u4HFQZ2Ftnnu",
        "outputId": "bf5d0254-42cd-4de2-d51f-c2a2aafb44a1"
      },
      "execution_count": 28,
      "outputs": [
        {
          "output_type": "stream",
          "name": "stdout",
          "text": [
            "HELLO JOANA\n"
          ]
        }
      ]
    },
    {
      "cell_type": "code",
      "source": [
        "b = \" Hello, Joana! \"\n",
        "print(b.strip())"
      ],
      "metadata": {
        "colab": {
          "base_uri": "https://localhost:8080/"
        },
        "id": "bCaBhmy6vwhc",
        "outputId": "71c5014e-ee52-4923-9441-cfb4eb75f505"
      },
      "execution_count": 30,
      "outputs": [
        {
          "output_type": "stream",
          "name": "stdout",
          "text": [
            "Hello, Joana!\n"
          ]
        }
      ]
    },
    {
      "cell_type": "code",
      "source": [
        "b = \" Hello, Joana! \"\n",
        "print(b.replace(\"o\", \"w\"))"
      ],
      "metadata": {
        "colab": {
          "base_uri": "https://localhost:8080/"
        },
        "id": "KRFAzkdMv1-V",
        "outputId": "7d364131-f9e0-41d4-c6e4-dcb01a083424"
      },
      "execution_count": 43,
      "outputs": [
        {
          "output_type": "stream",
          "name": "stdout",
          "text": [
            " Hellw, Jwana! \n"
          ]
        }
      ]
    },
    {
      "cell_type": "code",
      "source": [
        "b = \" Hello, Joana! \"\n",
        "print(b.split(\",\"))"
      ],
      "metadata": {
        "colab": {
          "base_uri": "https://localhost:8080/"
        },
        "id": "PlVrM8hl0v03",
        "outputId": "d1cc67e2-0eea-4f81-8c77-7d17ad14ccc9"
      },
      "execution_count": 44,
      "outputs": [
        {
          "output_type": "stream",
          "name": "stdout",
          "text": [
            "[' Hello', ' Joana! ']\n"
          ]
        }
      ]
    },
    {
      "cell_type": "code",
      "source": [
        "b = \" Hello, Joana! \"\n",
        "print(b.split(\"J\"))"
      ],
      "metadata": {
        "colab": {
          "base_uri": "https://localhost:8080/"
        },
        "id": "28pRb0axwMst",
        "outputId": "245af70f-7369-4d62-87b4-58679db8dacb"
      },
      "execution_count": 33,
      "outputs": [
        {
          "output_type": "stream",
          "name": "stdout",
          "text": [
            "[' Hello, ', 'oana! ']\n"
          ]
        }
      ]
    },
    {
      "cell_type": "code",
      "source": [
        "a = \"Hello\"\n",
        "b = \" , \"\n",
        "c = \"Jonana Marie\"\n",
        "d = a + b + c\n",
        "print(d)"
      ],
      "metadata": {
        "colab": {
          "base_uri": "https://localhost:8080/"
        },
        "id": "trNboXKpzDTy",
        "outputId": "96b7bbcb-43eb-4e84-cca5-da7585d16220"
      },
      "execution_count": 35,
      "outputs": [
        {
          "output_type": "stream",
          "name": "stdout",
          "text": [
            "Hello , Jonana Marie\n"
          ]
        }
      ]
    },
    {
      "cell_type": "code",
      "source": [
        "age = 19\n",
        "txt = \"My name is Joana, and I am {}\"\n",
        "print(txt.format(age))"
      ],
      "metadata": {
        "colab": {
          "base_uri": "https://localhost:8080/"
        },
        "id": "FwPMMjFszMHm",
        "outputId": "8566a0d5-4d44-41df-81f8-b285014dd01b"
      },
      "execution_count": 36,
      "outputs": [
        {
          "output_type": "stream",
          "name": "stdout",
          "text": [
            "My name is Joana, and I am 19\n"
          ]
        }
      ]
    },
    {
      "cell_type": "code",
      "source": [
        "quantity = 5\n",
        "itemno = 250\n",
        "price = 50.35\n",
        "myorder = \"I want {2} pieces of item {0} for {1} dollars.\"\n",
        "print(myorder.format(quantity, itemno, price))"
      ],
      "metadata": {
        "colab": {
          "base_uri": "https://localhost:8080/"
        },
        "id": "xum1GYDtzSr-",
        "outputId": "63ad49c8-af50-465e-d66f-707930be71cc"
      },
      "execution_count": 45,
      "outputs": [
        {
          "output_type": "stream",
          "name": "stdout",
          "text": [
            "I want 50.35 pieces of item 5 for 250 dollars.\n"
          ]
        }
      ]
    },
    {
      "cell_type": "code",
      "source": [
        "txt = \"hello, and welcome to my vlog.\"\n",
        "\n",
        "x = txt.capitalize()\n",
        "\n",
        "print (x)"
      ],
      "metadata": {
        "colab": {
          "base_uri": "https://localhost:8080/"
        },
        "id": "Jg22-_inzYR2",
        "outputId": "3dd7fdd5-0d14-49aa-8c24-759e50fbbee6"
      },
      "execution_count": 39,
      "outputs": [
        {
          "output_type": "stream",
          "name": "stdout",
          "text": [
            "Hello, and welcome to my vlog.\n"
          ]
        }
      ]
    },
    {
      "cell_type": "code",
      "source": [
        "txt = \"Hello, And Welcome To My Vlog!\"\n",
        "\n",
        "x = txt.casefold()\n",
        "\n",
        "print(x)"
      ],
      "metadata": {
        "colab": {
          "base_uri": "https://localhost:8080/"
        },
        "id": "hl8P2CElzjZe",
        "outputId": "bb444be9-ac93-4fc3-a89d-54ca3c82e7a5"
      },
      "execution_count": 40,
      "outputs": [
        {
          "output_type": "stream",
          "name": "stdout",
          "text": [
            "hello, and welcome to my vlog!\n"
          ]
        }
      ]
    },
    {
      "cell_type": "code",
      "source": [],
      "metadata": {
        "id": "9GrAoBZOzemv"
      },
      "execution_count": null,
      "outputs": []
    }
  ]
}